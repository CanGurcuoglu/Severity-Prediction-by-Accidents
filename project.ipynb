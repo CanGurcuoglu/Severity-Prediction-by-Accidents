version https://git-lfs.github.com/spec/v1
oid sha256:875361b0831ed3bc35ec021d64c9e1bfbb772b7251807a1f5d865eb23cce0223
size 67819
