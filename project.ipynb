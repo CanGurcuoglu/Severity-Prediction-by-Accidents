version https://git-lfs.github.com/spec/v1
oid sha256:47b66cb1aae6ce02e654bdb9775cead9f9978402de0f15776bb7a3026c3d4a97
size 67965
